{
 "cells": [
  {
   "cell_type": "code",
   "execution_count": 5,
   "id": "dfad7d84",
   "metadata": {},
   "outputs": [],
   "source": [
    "import math\n",
    "k = 10\n",
    "n = 14\n",
    "#cross rack repair bandwidth in Gbps\n",
    "B = 1\n",
    "N = 3000\n",
    "#cluster data in PB\n",
    "C = 60\n",
    "#In years\n",
    "MTTF = 4\n",
    "#Block size in MB\n",
    "Bs = 256"
   ]
  },
  {
   "cell_type": "code",
   "execution_count": 10,
   "id": "1c042b02",
   "metadata": {},
   "outputs": [],
   "source": [
    "def calculate_MTTDL(k, n, B, N, C, MTTF, Bs, rs_or_nway):\n",
    "    #disk capacity in TB\n",
    "    cap = C*1000/N\n",
    "    #failure rate\n",
    "    f = (1/MTTF)/365\n",
    "    #stripes\n",
    "    if rs_or_nway == 1:\n",
    "        stripe_size = Bs\n",
    "        stripes = (cap*1000*1000)/(n*Bs)\n",
    "        Bs_scaled = Bs*stripes\n",
    "        rho1 = (B*(1000/8))/(k*Bs_scaled)\n",
    "        rho1_y = rho1*365*24*60*60\n",
    "        rho2_y = rho1_y\n",
    "        rho3_y = rho2_y\n",
    "        rho4_y = rho2_y\n",
    "    \n",
    "        MTTDL = ((rho1_y*rho2_y*rho3_y*rho4_y)/(14*13*12*11*10*(f**5)))\n",
    "        MTTDLsystem = MTTDL/(C*1000*1000*1000/(Bs))\n",
    "\n",
    "        \n",
    "    else:\n",
    "        stripe_size = n*Bs\n",
    "        stripes = (cap*1000*1000)/(n*Bs)\n",
    "        Bs_scaled = Bs*stripes\n",
    "        rho1 = ((B*(1000/8))/(Bs_scaled))\n",
    "        rho1_y = rho1*365*24*60*60\n",
    "        rho2_y = rho1_y\n",
    "        MTTDL = ((rho1_y*rho2_y)/(3*2*1*(f**3)))\n",
    "        MTTDLsystem = MTTDL/(C*1000*1000*1000/(n*Bs))\n",
    "        \n",
    "        \n",
    "    print(\"Bscaled = \", Bs_scaled)\n",
    "    print(\"rho1 = \", rho1_y)\n",
    "    print(\"MTTDLstripe = \", MTTDL)\n",
    "    print(\"log of MTTDLstripe = \", math.log10(MTTDL))\n",
    "    print(\"MTTDLsystem = \", MTTDLsystem)\n",
    "    print(\"log of MTTDLsystem = \", math.log10(MTTDLsystem))"
   ]
  },
  {
   "cell_type": "code",
   "execution_count": 7,
   "id": "842bb584",
   "metadata": {},
   "outputs": [
    {
     "name": "stdout",
     "output_type": "stream",
     "text": [
      "RS(10,4)\n",
      "Bscaled =  714285.7142857143\n",
      "rho1 =  551.88\n",
      "MTTDLstripe =  2.5615190036902996e+21\n",
      "log of MTTDLstripe =  21.40849758221791\n",
      "MTTDLsystem =  21858295498157.223\n"
     ]
    }
   ],
   "source": [
    "print(\"RS(10,4)\")\n",
    "calculate_MTTDL(10, 14, 1, 3000, 30, 4, 256, 1)"
   ]
  },
  {
   "cell_type": "code",
   "execution_count": 11,
   "id": "2d6d5dcb",
   "metadata": {},
   "outputs": [
    {
     "name": "stdout",
     "output_type": "stream",
     "text": [
      "3-way replication, RS(1, 2)\n",
      "Bscaled =  5333333.333333333\n",
      "rho1 =  739.1250000000001\n",
      "MTTDLstripe =  7650800280941065.0\n",
      "log of MTTDLstripe =  15.88370686514298\n",
      "MTTDLsystem =  918096033.7129278\n",
      "log of MTTDLsystem =  8.962888111190605\n"
     ]
    }
   ],
   "source": [
    "print(\"3-way replication, RS(1, 2)\")\n",
    "calculate_MTTDL(1, 3, 1, 400, .400*16, 4*3, 256, 0)"
   ]
  },
  {
   "cell_type": "code",
   "execution_count": null,
   "id": "ba099bcf",
   "metadata": {},
   "outputs": [],
   "source": []
  },
  {
   "cell_type": "code",
   "execution_count": null,
   "id": "8a49c130",
   "metadata": {},
   "outputs": [],
   "source": []
  }
 ],
 "metadata": {
  "kernelspec": {
   "display_name": "Python 3 (ipykernel)",
   "language": "python",
   "name": "python3"
  },
  "language_info": {
   "codemirror_mode": {
    "name": "ipython",
    "version": 3
   },
   "file_extension": ".py",
   "mimetype": "text/x-python",
   "name": "python",
   "nbconvert_exporter": "python",
   "pygments_lexer": "ipython3",
   "version": "3.8.2"
  }
 },
 "nbformat": 4,
 "nbformat_minor": 5
}
