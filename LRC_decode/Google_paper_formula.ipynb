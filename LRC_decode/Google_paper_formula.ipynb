{
 "cells": [
  {
   "cell_type": "code",
   "execution_count": 273,
   "id": "3a7cc79b",
   "metadata": {},
   "outputs": [],
   "source": [
    "#RS(1,2)\n",
    "s = 14\n",
    "r = 10\n",
    "#in Gbps\n",
    "BW = 1\n",
    "#in MB\n",
    "Bs = 256\n",
    "\n",
    "\n",
    "\n",
    "#disk capacity in TB\n",
    "cap = 10\n",
    "#num stripes in a disk\n",
    "\n",
    "\n",
    "#lambda in years\n",
    "lamb_da = 0.25\n",
    "\n",
    "\n",
    "#cluster data in PB\n",
    "C = 30\n",
    "\n",
    "#blocks required to repair 1 failed block\n",
    "Rb = 10"
   ]
  },
  {
   "cell_type": "code",
   "execution_count": 274,
   "id": "ee01f980",
   "metadata": {},
   "outputs": [],
   "source": [
    "def calculate_MTTDL(s, r, BW, Bs, cap, lamb_da, C, Rb, rs_or_nway):\n",
    "    if rs_or_nway == 1:\n",
    "        stripe_size = Bs\n",
    "        stripes = (cap*1000*1000)/(stripe_size)\n",
    "        Bs_scaled = Bs*stripes\n",
    "        rho = (BW*(1000/8))/(Rb*Bs_scaled)\n",
    "        rho = rho*365*24*60*60\n",
    "\n",
    "        \n",
    "    else:\n",
    "        stripe_size = s*Bs\n",
    "        stripes = (cap*1000*1000)/(stripe_size)\n",
    "        Bs_scaled = Bs*stripes\n",
    "        rho = ((BW*(1000/8))/(Rb*Bs_scaled))\n",
    "        rho = rho*365*24*60*60\n",
    "        \n",
    "    \n",
    "    f = (lamb_da)/365\n",
    "    #rho = (BW*1000*24*60*60)/(8*Rb*Bs)\n",
    "    print(\"rho\", rho)\n",
    "    result = 0\n",
    "    for k in range(0, s-r+1):\n",
    "        #print(\"k\", k)\n",
    "        for i in range(0, k+1):\n",
    "            #print(\"i\", i)\n",
    "            a_prod_b = 1\n",
    "            a = s-k+i\n",
    "            b = i+1\n",
    "            for j in reversed(range(a-b+1, a+1)):\n",
    "                #print(\"j\", j)\n",
    "                a_prod_b *= j\n",
    "            #print(\"a_prod_b\", a_prod_b)\n",
    "            result += ((1/f)**i)*(rho**i)*(1/a_prod_b)\n",
    "            #print(\"result\", result)\n",
    "    MTTDLstripe = (result * 1/f)\n",
    "    print(\"MTTDLstripe = \", MTTDLstripe)\n",
    "    if rs_or_nway == 1:\n",
    "        MTTDLsystem = MTTDLstripe/(C*1000*1000*1000/(Bs_scaled))\n",
    "    else:\n",
    "        MTTDLsystem = MTTDLstripe/(C*1000*1000*1000/(s*Bs_scaled))\n",
    "    print(\"MTTDLsystem = \", MTTDLsystem)"
   ]
  },
  {
   "cell_type": "code",
   "execution_count": 275,
   "id": "355def42",
   "metadata": {},
   "outputs": [
    {
     "name": "stdout",
     "output_type": "stream",
     "text": [
      "RS(10,4)\n",
      "rho 39.42\n",
      "MTTDLstripe =  6.670625534483714e+16\n",
      "MTTDLsystem =  22235418448279.047\n"
     ]
    }
   ],
   "source": [
    "print(\"RS(10,4)\")\n",
    "calculate_MTTDL(14, 10, 1, 256, 10, 0.25, 30, 10, 1)"
   ]
  },
  {
   "cell_type": "code",
   "execution_count": 276,
   "id": "98d8e4e1",
   "metadata": {},
   "outputs": [
    {
     "name": "stdout",
     "output_type": "stream",
     "text": [
      "rho 394.20000000000005\n",
      "MTTDLstripe =  80601583722996.69\n",
      "MTTDLsystem =  26867194574.33223\n"
     ]
    }
   ],
   "source": [
    "calculate_MTTDL(3, 1, 1, 256, 10, 0.25, 30, 1, 1)"
   ]
  },
  {
   "cell_type": "code",
   "execution_count": null,
   "id": "6bbd12c7",
   "metadata": {},
   "outputs": [],
   "source": []
  },
  {
   "cell_type": "code",
   "execution_count": null,
   "id": "74f0cfca",
   "metadata": {},
   "outputs": [],
   "source": []
  }
 ],
 "metadata": {
  "kernelspec": {
   "display_name": "Python 3 (ipykernel)",
   "language": "python",
   "name": "python3"
  },
  "language_info": {
   "codemirror_mode": {
    "name": "ipython",
    "version": 3
   },
   "file_extension": ".py",
   "mimetype": "text/x-python",
   "name": "python",
   "nbconvert_exporter": "python",
   "pygments_lexer": "ipython3",
   "version": "3.8.2"
  }
 },
 "nbformat": 4,
 "nbformat_minor": 5
}
