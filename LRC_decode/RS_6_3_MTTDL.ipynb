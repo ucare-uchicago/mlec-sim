{
 "cells": [
  {
   "cell_type": "code",
   "execution_count": 10,
   "id": "f11e12ec",
   "metadata": {},
   "outputs": [
    {
     "name": "stdout",
     "output_type": "stream",
     "text": [
      "f =  0.0006849315068493151\n"
     ]
    }
   ],
   "source": [
    "k = 6\n",
    "p =3\n",
    "Locality = 6\n",
    "n = 9\n",
    "#cross rack repair bandwidth in Gbps\n",
    "B = 1\n",
    "#disk capcity in TB\n",
    "S = 16\n",
    "N = 400\n",
    "#Repair cost\n",
    "Rc = (6*9)/9\n",
    "\n",
    "#In years\n",
    "#MTTF = 4\n",
    "#failure rate\n",
    "#f = (1/MTTF)/365\n",
    "f = (0.25)/365\n",
    "#epsilon\n",
    "ep = 0.1\n",
    "#error detection time in sec\n",
    "T = 1800\n",
    "print(\"f = \", f)"
   ]
  },
  {
   "cell_type": "code",
   "execution_count": 11,
   "id": "97212158",
   "metadata": {},
   "outputs": [
    {
     "name": "stdout",
     "output_type": "stream",
     "text": [
      "rho1 =  1638.3937500000002\n",
      "rho2 =  17520.0\n",
      "MTTDLstripe =  2.0702522156335204e+18\n",
      "MTTDLsystem =  323476908692.73755\n"
     ]
    }
   ],
   "source": [
    "rho1 = ep*(N-1)*B/(8*S*1000*Rc) \n",
    "rho2 = 1/T\n",
    "rho3 = rho2\n",
    "rho4 = rho2\n",
    "rho1_y = rho1*365*24*60*60\n",
    "rho2_y = rho2*365*24*60*60\n",
    "rho3_y = rho2_y\n",
    "print(\"rho1 = \", rho1_y)\n",
    "print(\"rho2 = \", rho2_y)\n",
    "\n",
    "MTTDLstripe = ((rho1_y*rho2_y*rho3_y)/(9*8*7*6*(f**4)))/365\n",
    "print(\"MTTDLstripe = \", MTTDLstripe)\n",
    "\n",
    "MTTDLsystem = MTTDLstripe/((N*S*1000)/(1))\n",
    "#MTTDLsystem = MTTDLstripe/(N/(n))\n",
    "print(\"MTTDLsystem = \", MTTDLsystem)"
   ]
  },
  {
   "cell_type": "code",
   "execution_count": null,
   "id": "1a87f7cd",
   "metadata": {},
   "outputs": [],
   "source": []
  },
  {
   "cell_type": "code",
   "execution_count": null,
   "id": "a78939a5",
   "metadata": {},
   "outputs": [],
   "source": []
  }
 ],
 "metadata": {
  "kernelspec": {
   "display_name": "Python 3 (ipykernel)",
   "language": "python",
   "name": "python3"
  },
  "language_info": {
   "codemirror_mode": {
    "name": "ipython",
    "version": 3
   },
   "file_extension": ".py",
   "mimetype": "text/x-python",
   "name": "python",
   "nbconvert_exporter": "python",
   "pygments_lexer": "ipython3",
   "version": "3.8.2"
  }
 },
 "nbformat": 4,
 "nbformat_minor": 5
}
