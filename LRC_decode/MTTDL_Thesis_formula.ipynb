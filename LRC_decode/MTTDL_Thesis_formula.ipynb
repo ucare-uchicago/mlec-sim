{
 "cells": [
  {
   "cell_type": "code",
   "execution_count": 159,
   "id": "0eb52a20",
   "metadata": {},
   "outputs": [],
   "source": [
    "#Brep = repair bandwidth\n",
    "#M = number of nodes\n",
    "#rbar = locality\n",
    "#C = disk capacilty in TB\n",
    "#lamb_da = failure rate\n",
    "#gamma_n_minus_1\n",
    "#n = stripe width\n",
    "#d = minimum distance"
   ]
  },
  {
   "cell_type": "code",
   "execution_count": 160,
   "id": "e9236a70",
   "metadata": {},
   "outputs": [],
   "source": [
    "def calculate_MTTDL(Brep, M, rbar, C, lamb_da, n, d, Td, Bs):\n",
    "    lamb_da = lamb_da/365\n",
    "    gamma_n_minus_1 = (Brep*M)/(rbar*C*lamb_da)\n",
    "    gamma_n_minus_1 = (gamma_n_minus_1*365*24*60*60)/(1000*8)\n",
    "    \n",
    "    gamma = ((1/Td)/lamb_da)\n",
    "    gamma = gamma*(1/60)*365*24*60*60\n",
    "    \n",
    "    denom = 1\n",
    "    for i in reversed(range(n-d+1, n+1)):\n",
    "        denom = denom*i\n",
    "    print(denom)\n",
    "    \n",
    "    numer = gamma_n_minus_1*(gamma**(d-2))\n",
    "    \n",
    "    MTTDL = numer/(denom*lamb_da)\n",
    "    print(MTTDL)\n",
    "    \n",
    "    MTTDLsys = MTTDL/((C*M*1000*1000)/(n*Bs))\n",
    "    return MTTDLsys"
   ]
  },
  {
   "cell_type": "code",
   "execution_count": 161,
   "id": "db1c766e",
   "metadata": {},
   "outputs": [
    {
     "name": "stdout",
     "output_type": "stream",
     "text": [
      "LRC(16,5)\n",
      "120\n",
      "3.515792319310013e+31\n",
      "7.500356947861361e+23\n"
     ]
    }
   ],
   "source": [
    "print(\"LRC(16,5)\")\n",
    "print(calculate_MTTDL(1, 3000, 5, 20, 0.25, 5, 5, 30, 256))"
   ]
  },
  {
   "cell_type": "code",
   "execution_count": 162,
   "id": "38a59070",
   "metadata": {},
   "outputs": [
    {
     "name": "stdout",
     "output_type": "stream",
     "text": [
      "RS(10,4)\n",
      "240240\n",
      "8.780700098176855e+27\n",
      "5.2450048586443076e+20\n"
     ]
    }
   ],
   "source": [
    "print(\"RS(10,4)\")\n",
    "print(calculate_MTTDL(1, 3000, 10, 20, 0.25, 14, 5, 30, 256))"
   ]
  },
  {
   "cell_type": "code",
   "execution_count": 163,
   "id": "a6961574",
   "metadata": {},
   "outputs": [
    {
     "name": "stdout",
     "output_type": "stream",
     "text": [
      "RS(1,2)\n",
      "6\n",
      "5.373401569055999e+18\n",
      "68779540083.9168\n"
     ]
    }
   ],
   "source": [
    "print(\"RS(1,2)\")\n",
    "print(calculate_MTTDL(1, 3000, 1, 20, 0.25, 3, 3, 30, 256))"
   ]
  },
  {
   "cell_type": "code",
   "execution_count": null,
   "id": "7f7f3a42",
   "metadata": {},
   "outputs": [],
   "source": []
  },
  {
   "cell_type": "code",
   "execution_count": null,
   "id": "28c1d627",
   "metadata": {},
   "outputs": [],
   "source": []
  }
 ],
 "metadata": {
  "kernelspec": {
   "display_name": "Python 3 (ipykernel)",
   "language": "python",
   "name": "python3"
  },
  "language_info": {
   "codemirror_mode": {
    "name": "ipython",
    "version": 3
   },
   "file_extension": ".py",
   "mimetype": "text/x-python",
   "name": "python",
   "nbconvert_exporter": "python",
   "pygments_lexer": "ipython3",
   "version": "3.8.2"
  }
 },
 "nbformat": 4,
 "nbformat_minor": 5
}
