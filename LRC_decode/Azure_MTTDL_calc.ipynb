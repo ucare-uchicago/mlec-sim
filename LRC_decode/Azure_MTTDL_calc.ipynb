{
 "cells": [
  {
   "cell_type": "code",
   "execution_count": 19,
   "id": "f11e12ec",
   "metadata": {},
   "outputs": [],
   "source": [
    "k = 6\n",
    "l = 2\n",
    "r = 2\n",
    "Locality = 3\n",
    "n = 10\n",
    "#cross rack repair bandwidth in Gbps\n",
    "B = 1 \n",
    "#disk capcity in TB\n",
    "S = 16\n",
    "N = 400\n",
    "#Repair cost\n",
    "Rc = (3*8 + 6*2)/10\n",
    "Pd = .857\n",
    "#In years\n",
    "MTTF = 4\n",
    "#failure rate\n",
    "f = 1/MTTF\n",
    "#epsilon\n",
    "ep = 0.1\n",
    "#error detection time in sec\n",
    "T = 1800"
   ]
  },
  {
   "cell_type": "code",
   "execution_count": 20,
   "id": "97212158",
   "metadata": {},
   "outputs": [
    {
     "name": "stdout",
     "output_type": "stream",
     "text": [
      "rho1 =  2730.6562500000005\n",
      "rho2 =  17520.0\n",
      "MTTDL6F =  297720422937.063\n",
      "MTTDL5 =  580238692189498.4\n",
      "MTTDLstripe =  297567740954.83386\n",
      "MTTDLsystem =  7439193523.870847\n"
     ]
    }
   ],
   "source": [
    "rho1 = ep*(N-1)*B/(8*S*1000*Rc) \n",
    "rho2 = 1/T\n",
    "rho3 = rho2\n",
    "rho4 = rho2\n",
    "rho1_y = rho1*365*24*60*60\n",
    "rho2_y = rho2*365*24*60*60\n",
    "rho3_y = rho2_y\n",
    "rho4_y = rho2_y\n",
    "print(\"rho1 = \", rho1_y)\n",
    "print(\"rho2 = \", rho2_y)\n",
    "\n",
    "MTTDL6F = (rho1_y*rho2_y*rho3_y)/(10*9*8*7*(f**4)*(1-Pd))\n",
    "print(\"MTTDL6F = \", MTTDL6F)\n",
    "\n",
    "MTTDL5 = (rho1_y*rho2_y*rho3_y*rho4_y)/(10*9*8*7*6*(f**5)*Pd)\n",
    "print(\"MTTDL5 = \", MTTDL5)\n",
    "\n",
    "MTTDLstripe = 1/((1/MTTDL6F)+(1/MTTDL5))\n",
    "print(\"MTTDLstripe = \", MTTDLstripe)\n",
    "\n",
    "MTTDLsystem = MTTDLstripe/(N/(n))\n",
    "print(\"MTTDLsystem = \", MTTDLsystem)"
   ]
  },
  {
   "cell_type": "code",
   "execution_count": null,
   "id": "1a87f7cd",
   "metadata": {},
   "outputs": [],
   "source": []
  }
 ],
 "metadata": {
  "kernelspec": {
   "display_name": "Python 3 (ipykernel)",
   "language": "python",
   "name": "python3"
  },
  "language_info": {
   "codemirror_mode": {
    "name": "ipython",
    "version": 3
   },
   "file_extension": ".py",
   "mimetype": "text/x-python",
   "name": "python",
   "nbconvert_exporter": "python",
   "pygments_lexer": "ipython3",
   "version": "3.8.2"
  }
 },
 "nbformat": 4,
 "nbformat_minor": 5
}
