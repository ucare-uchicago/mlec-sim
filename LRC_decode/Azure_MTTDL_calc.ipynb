{
 "cells": [
  {
   "cell_type": "code",
   "execution_count": 53,
   "id": "37cc62c9",
   "metadata": {},
   "outputs": [],
   "source": [
    "import math\n",
    "from math import comb\n",
    "import itertools\n",
    "import argparse"
   ]
  },
  {
   "cell_type": "code",
   "execution_count": 54,
   "id": "f11e12ec",
   "metadata": {},
   "outputs": [
    {
     "name": "stdout",
     "output_type": "stream",
     "text": [
      "2.8538812785388127e-05\n"
     ]
    }
   ],
   "source": [
    "k = 6\n",
    "l = 2\n",
    "r = 2\n",
    "Locality = 3\n",
    "n = 10\n",
    "#cross rack repair bandwidth in Gbps\n",
    "B = 1\n",
    "#disk capcity in TB\n",
    "S = 16\n",
    "N = 400\n",
    "#Repair cost\n",
    "Rc = (3*8 + 6*2)/10\n",
    "Pd = .857\n",
    "#In years\n",
    "MTTF = 4\n",
    "#failure rate\n",
    "f = (1/MTTF)\n",
    "f_h = f/8760\n",
    "print(f_h)\n",
    "#epsilon\n",
    "ep = 0.1\n",
    "#error detection time in sec\n",
    "T = 1800\n"
   ]
  },
  {
   "cell_type": "code",
   "execution_count": 55,
   "id": "97212158",
   "metadata": {},
   "outputs": [
    {
     "name": "stdout",
     "output_type": "stream",
     "text": [
      "rho1 =  0.31171875000000004\n",
      "rho2 =  2.0\n",
      "rho1_by_lambda 10922.625000000002\n",
      "rho2_by_lambda 70080.0\n",
      "MTTDLstripe =  297720422937.063\n",
      "log of MTTDLstripe 11.473808627272348\n"
     ]
    }
   ],
   "source": [
    "rho1 = (ep*(N-1)*B)/(8*S*1000*Rc)\n",
    "rho2 = 1/T\n",
    "rho3 = rho2\n",
    "rho4 = rho2\n",
    "rho1_h = rho1*3600\n",
    "rho2_h = rho2*3600\n",
    "rho3_h = rho2_h\n",
    "rho4_h = rho2_h\n",
    "print(\"rho1 = \", rho1_h)\n",
    "print(\"rho2 = \", rho2_h)\n",
    "\n",
    "\n",
    "rho1_by_lambda = rho1_h/f_h\n",
    "rho2_by_lambda = rho2_h/f_h\n",
    "\n",
    "print(\"rho1_by_lambda\", rho1_by_lambda)\n",
    "print(\"rho2_by_lambda\", rho2_by_lambda)\n",
    "\n",
    "\n",
    "MTTDLstripe = (rho1_by_lambda*rho2_by_lambda**2)/(10*9*8*7*f*(1-Pd))\n",
    "print(\"MTTDLstripe = \", MTTDLstripe)\n",
    "\n",
    "\n",
    "print(\"log of MTTDLstripe\", math.log10(MTTDLstripe))"
   ]
  },
  {
   "cell_type": "code",
   "execution_count": 56,
   "id": "77b5f7a7",
   "metadata": {},
   "outputs": [],
   "source": [
    "def calculate_recoverability(k, l, r, R):\n",
    "    n = k + l + r\n",
    "\n",
    "    data_blocks = []\n",
    "    for i in range(k):\n",
    "        data_blocks.append('k'+str(i))\n",
    "    print(data_blocks)\n",
    "\n",
    "\n",
    "    local_parities = []\n",
    "    for i in range(l):\n",
    "        local_parities.append('l'+str(i))\n",
    "    print(local_parities)\n",
    "\n",
    "\n",
    "    global_parities = []\n",
    "    for i in range(r):\n",
    "        global_parities.append('r'+str(i))\n",
    "    print(global_parities)\n",
    "\n",
    "    data_and_parity = data_blocks + local_parities + global_parities\n",
    "    print(data_and_parity)\n",
    "    \n",
    "    all_comb = list(itertools.combinations(data_and_parity, R))\n",
    "    \n",
    "    num_local_groups = l\n",
    "    local_groups = []\n",
    "\n",
    "    local_group_ids = []\n",
    "    \n",
    "    start = 0\n",
    "    end = k\n",
    "    step = int(k/l)\n",
    "    for i in range(start, end, step):\n",
    "        x = i\n",
    "        local_groups.append(data_blocks[x:x+step])\n",
    "    \n",
    "    print(local_groups)\n",
    "    recoverable = 0\n",
    "    for i in range(len(all_comb)):\n",
    "        k_terms = 0\n",
    "        l_terms = l\n",
    "        r_terms = r\n",
    "        comb_list = list(all_comb[i])\n",
    "        #print(comb_list)\n",
    "        for j in range(len(all_comb[i])):\n",
    "            if 'k' in comb_list[j]:\n",
    "                k_terms = k_terms + 1\n",
    "        #print(\"   \", k_terms, l_terms, r_terms)\n",
    "        for j in range(len(all_comb[i])):\n",
    "            if 'k' in all_comb[i][j]:\n",
    "                for m in range(len(local_groups)):\n",
    "                    if all_comb[i][j] in local_groups[m]:\n",
    "                        local_group_id = m\n",
    "                        break\n",
    "                #print(\"   local_group_id = \", local_group_id)\n",
    "                if local_parities[local_group_id] not in comb_list:\n",
    "                    k_terms = k_terms - 1\n",
    "                    comb_list.append(local_parities[local_group_id])\n",
    "            if 'r' in all_comb[i][j]:\n",
    "                r_terms = r_terms - 1\n",
    "        #print(\"   \", k_terms, r_terms)\n",
    "        if k_terms <= r_terms:\n",
    "            recoverable = recoverable + 1\n",
    "            #print(list(all_comb[i]), \"-R\")\n",
    "        #else:\n",
    "            #print(list(all_comb[i]), \"-N\")\n",
    "        #print(\"   recoverable = \", recoverable)\n",
    "        \n",
    "    return (recoverable/len(all_comb))"
   ]
  },
  {
   "cell_type": "code",
   "execution_count": 59,
   "id": "1a87f7cd",
   "metadata": {},
   "outputs": [],
   "source": [
    "def calculate_MTTDLstripe(k, l, r, ep, N, B, S, f, T):\n",
    "\n",
    "    n = k+l+r\n",
    "    Rc = ((k/l)*(k+l) + k*r)/n\n",
    "\n",
    "    f_h = f/8760\n",
    "\n",
    "    rho1 = (ep*(N-1)*B)/(8*S*1000*Rc)\n",
    "    rho2 = 1/T\n",
    "    rho1_h = rho1*3600\n",
    "    rho2_h = rho2*3600\n",
    "\n",
    "    rho1_by_lambda = rho1_h/f_h\n",
    "    rho2_by_lambda = rho2_h/f_h\n",
    "\n",
    "    part_failure = r+2\n",
    "    Pd = calculate_recoverability(k,l,r, part_failure)\n",
    "    print(\"Pd = \", Pd*100)\n",
    "    #Pd = 0.9999\n",
    "    num = rho1_by_lambda*rho2_by_lambda**(part_failure-2)\n",
    "    denom = 1\n",
    "    for i in range(part_failure):\n",
    "        denom = denom*(n-i)\n",
    "\n",
    "    denom = denom*f*(1-Pd)\n",
    "\n",
    "    MTTDLstripe = num/denom\n",
    "    \n",
    "    return MTTDLstripe, math.log10(MTTDLstripe)"
   ]
  },
  {
   "cell_type": "code",
   "execution_count": 64,
   "id": "a78939a5",
   "metadata": {},
   "outputs": [
    {
     "name": "stdout",
     "output_type": "stream",
     "text": [
      "MTTDLstripe =  1.0425225107336717e+42\n",
      "log of MTTDLstripe 42.01808544127828\n"
     ]
    }
   ],
   "source": [
    "MTTDLstripe, logMTTDL = calculate_MTTDLstripe(42, 6, 12, 0.1, 400, 1, 16, 0.25, 1800)\n",
    "print(\"MTTDLstripe = \", MTTDLstripe)\n",
    "print(\"log of MTTDLstripe\", logMTTDL)"
   ]
  },
  {
   "cell_type": "code",
   "execution_count": null,
   "id": "75a9df86",
   "metadata": {},
   "outputs": [],
   "source": []
  }
 ],
 "metadata": {
  "kernelspec": {
   "display_name": "Python 3 (ipykernel)",
   "language": "python",
   "name": "python3"
  },
  "language_info": {
   "codemirror_mode": {
    "name": "ipython",
    "version": 3
   },
   "file_extension": ".py",
   "mimetype": "text/x-python",
   "name": "python",
   "nbconvert_exporter": "python",
   "pygments_lexer": "ipython3",
   "version": "3.8.2"
  }
 },
 "nbformat": 4,
 "nbformat_minor": 5
}
