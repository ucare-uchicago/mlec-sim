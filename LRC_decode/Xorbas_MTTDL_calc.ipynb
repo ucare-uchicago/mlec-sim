{
 "cells": [
  {
   "cell_type": "code",
   "execution_count": 45,
   "id": "f11e12ec",
   "metadata": {},
   "outputs": [],
   "source": [
    "import math\n",
    "k = 10\n",
    "l = 2\n",
    "r = 4\n",
    "Locality = 5\n",
    "n = 16\n",
    "#cross rack repair bandwidth in Gbps\n",
    "B = 1\n",
    "N = 3000\n",
    "#cluster data in PB\n",
    "C = 30\n",
    "#Block size in MB\n",
    "Bs = 256\n",
    "Bs_scaled = 256*(((C*1000/N)*1000*1000)/(n*Bs))\n",
    "\n",
    "\n",
    "#In years\n",
    "MTTF = 4\n",
    "#failure rate\n",
    "f = (1/MTTF)/(365)\n",
    "#f = (1/MTTF)*((10*1000*1000)/(Bs))\n"
   ]
  },
  {
   "cell_type": "code",
   "execution_count": 46,
   "id": "e3895340",
   "metadata": {},
   "outputs": [
    {
     "data": {
      "text/plain": [
       "'\\nrho1 = ((B*(1000/8))/(5*Bs))\\nrho2 = ((B*(1000/8))/(10*Bs))\\nrho3 = rho2\\nrho4 = rho2\\nrho5 = rho2\\nrho6 = rho2\\nrho1_y = rho1*365*24*60*60\\nrho2_y = rho2*365*24*60*60\\nrho3_y = rho2_y\\nrho4_y = rho2_y\\nrho5_y = rho2_y\\nrho6_y = rho2_y\\nprint(\"rho1 = \", rho1_y)\\nprint(\"rho2 = \", rho2_y)\\n\\nnum = rho1_y*rho2_y*rho3_y*rho4_y*rho5_y\\nprint(num)\\ndenom = 16*15*14*13*12*11*(f**6)*(1-Pd)\\nprint(denom)\\n\\nMTTDL10F = (rho1_y*rho2_y*rho3_y*rho4_y*rho5_y)/(16*15*14*13*12*11*(f**6)*(1-Pd))\\nprint(\"MTTDL10F = \", MTTDL10F)\\n\\nMTTDL9 = (rho1_y*rho2_y*rho3_y*rho4_y*rho5_y*rho6_y)/(16*15*14*13*12*11*10*(f**7)*(Pd))\\nprint(\"MTTDL9 = \", MTTDL9)\\n\\nMTTDLstripe = (1/((1/MTTDL10F)+(1/MTTDL9)))*365\\nprint(\"MTTDLstripe = \", MTTDLstripe)\\nprint(\"log of MTTDLstripe = \", math.log10(MTTDLstripe))\\n\\nMTTDLsystem = MTTDLstripe/(C*1000*1000*1000/(n*Bs))\\nprint(\"MTTDLsystem = \", MTTDLsystem)\\n'"
      ]
     },
     "execution_count": 46,
     "metadata": {},
     "output_type": "execute_result"
    }
   ],
   "source": [
    "'''\n",
    "rho1 = ((B*(1000/8))/(5*Bs))\n",
    "rho2 = ((B*(1000/8))/(10*Bs))\n",
    "rho3 = rho2\n",
    "rho4 = rho2\n",
    "rho5 = rho2\n",
    "rho6 = rho2\n",
    "rho1_y = rho1*365*24*60*60\n",
    "rho2_y = rho2*365*24*60*60\n",
    "rho3_y = rho2_y\n",
    "rho4_y = rho2_y\n",
    "rho5_y = rho2_y\n",
    "rho6_y = rho2_y\n",
    "print(\"rho1 = \", rho1_y)\n",
    "print(\"rho2 = \", rho2_y)\n",
    "\n",
    "num = rho1_y*rho2_y*rho3_y*rho4_y*rho5_y\n",
    "print(num)\n",
    "denom = 16*15*14*13*12*11*(f**6)*(1-Pd)\n",
    "print(denom)\n",
    "\n",
    "MTTDL10F = (rho1_y*rho2_y*rho3_y*rho4_y*rho5_y)/(16*15*14*13*12*11*(f**6)*(1-Pd))\n",
    "print(\"MTTDL10F = \", MTTDL10F)\n",
    "\n",
    "MTTDL9 = (rho1_y*rho2_y*rho3_y*rho4_y*rho5_y*rho6_y)/(16*15*14*13*12*11*10*(f**7)*(Pd))\n",
    "print(\"MTTDL9 = \", MTTDL9)\n",
    "\n",
    "MTTDLstripe = (1/((1/MTTDL10F)+(1/MTTDL9)))*365\n",
    "print(\"MTTDLstripe = \", MTTDLstripe)\n",
    "print(\"log of MTTDLstripe = \", math.log10(MTTDLstripe))\n",
    "\n",
    "MTTDLsystem = MTTDLstripe/(C*1000*1000*1000/(n*Bs))\n",
    "print(\"MTTDLsystem = \", MTTDLsystem)\n",
    "'''"
   ]
  },
  {
   "cell_type": "code",
   "execution_count": 47,
   "id": "c89db046",
   "metadata": {},
   "outputs": [
    {
     "name": "stdout",
     "output_type": "stream",
     "text": [
      "1261.44\n",
      "MTTDLstripe =  3.204548111349997e+22\n",
      "log of MTTDLstripe =  22.505766796231203\n",
      "MTTDLsystem =  4375276354696529.5\n"
     ]
    }
   ],
   "source": [
    "rho1 = ((B*(1000/8))/(5*Bs_scaled))\n",
    "rho1_y = rho1*365*24*60*60\n",
    "rho2_y = rho1_y\n",
    "rho3_y = rho1_y\n",
    "rho4_y = rho1_y\n",
    "\n",
    "print(rho1_y)\n",
    "\n",
    "MTTDLstripe = ((rho1_y*rho2_y*rho3_y*rho4_y)/(16*15*14*13*12*(f**5)))\n",
    "\n",
    "print(\"MTTDLstripe = \", MTTDLstripe)\n",
    "print(\"log of MTTDLstripe = \", math.log10(MTTDLstripe))\n",
    "\n",
    "MTTDLsystem = (MTTDLstripe)/(C*1000*1000*1000/(n*Bs))\n",
    "print(\"MTTDLsystem = \", MTTDLsystem)"
   ]
  },
  {
   "cell_type": "code",
   "execution_count": 16,
   "id": "bccf2a36",
   "metadata": {},
   "outputs": [
    {
     "name": "stdout",
     "output_type": "stream",
     "text": [
      "187.5\n"
     ]
    }
   ],
   "source": [
    "ind_stripes = N/n\n",
    "print(ind_stripes)"
   ]
  },
  {
   "cell_type": "code",
   "execution_count": 366,
   "id": "d9509bb9",
   "metadata": {},
   "outputs": [
    {
     "name": "stdout",
     "output_type": "stream",
     "text": [
      "9.983594066341565\n"
     ]
    }
   ],
   "source": [
    "print(math.log10(MTTDLstripe/ind_stripes))"
   ]
  },
  {
   "cell_type": "code",
   "execution_count": null,
   "id": "1291dd95",
   "metadata": {},
   "outputs": [],
   "source": []
  }
 ],
 "metadata": {
  "kernelspec": {
   "display_name": "Python 3 (ipykernel)",
   "language": "python",
   "name": "python3"
  },
  "language_info": {
   "codemirror_mode": {
    "name": "ipython",
    "version": 3
   },
   "file_extension": ".py",
   "mimetype": "text/x-python",
   "name": "python",
   "nbconvert_exporter": "python",
   "pygments_lexer": "ipython3",
   "version": "3.8.2"
  }
 },
 "nbformat": 4,
 "nbformat_minor": 5
}
