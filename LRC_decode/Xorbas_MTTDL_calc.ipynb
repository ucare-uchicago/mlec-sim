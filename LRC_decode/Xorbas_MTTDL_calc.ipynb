{
 "cells": [
  {
   "cell_type": "code",
   "execution_count": 44,
   "id": "f11e12ec",
   "metadata": {},
   "outputs": [],
   "source": [
    "import math\n",
    "k = 10\n",
    "l = 2\n",
    "r = 4\n",
    "Locality = 5\n",
    "n = 16\n",
    "#cross rack repair bandwidth in Gbps\n",
    "B = 1 \n",
    "N = 3000\n",
    "#cluster data in PB\n",
    "C = 30\n",
    "Pd = .9475\n",
    "#In years\n",
    "MTTF = 4\n",
    "#failure rate\n",
    "f = 1/MTTF\n",
    "#Block size in MB\n",
    "Bs = (256*40000)/16"
   ]
  },
  {
   "cell_type": "code",
   "execution_count": 45,
   "id": "d4ac6f18",
   "metadata": {},
   "outputs": [
    {
     "name": "stdout",
     "output_type": "stream",
     "text": [
      "rho1 =  3079687.5\n",
      "rho2 =  1539843.75\n",
      "MTTDL10F =  2.3429194216849195e+29\n",
      "MTTDL9 =  7.99602389371376e+33\n",
      "MTTDLstripe =  8.551405323945518e+31\n",
      "log of MTTDLstripe =  31.932037491837203\n",
      "MTTDLsystem =  1.1675518735626948e+25\n"
     ]
    }
   ],
   "source": [
    "rho1 = ((B*(1000/8))/(5*Bs))\n",
    "rho2 = ((B*(1000/8))/(10*Bs))\n",
    "rho3 = rho2\n",
    "rho4 = rho2\n",
    "rho5 = rho2\n",
    "rho6 = rho2\n",
    "rho1_y = rho1*365*24*60*60\n",
    "rho2_y = rho2*365*24*60*60\n",
    "rho3_y = rho2_y\n",
    "rho4_y = rho2_y\n",
    "rho5_y = rho2_y\n",
    "rho6_y = rho2_y\n",
    "print(\"rho1 = \", rho1_y)\n",
    "print(\"rho2 = \", rho2_y)\n",
    "\n",
    "\n",
    "MTTDL10F = (rho1_y*rho2_y*rho3_y*rho4_y*rho5_y)/(16*15*14*13*12*11*(f**6)*(1-Pd))\n",
    "print(\"MTTDL10F = \", MTTDL10F)\n",
    "\n",
    "MTTDL9 = (rho1_y*rho2_y*rho3_y*rho4_y*rho5_y*rho6_y)/(16*15*14*13*12*11*10*(f**7)*(Pd))\n",
    "print(\"MTTDL9 = \", MTTDL9)\n",
    "\n",
    "MTTDLstripe = (1/((1/MTTDL10F)+(1/MTTDL9)))*365\n",
    "print(\"MTTDLstripe = \", MTTDLstripe)\n",
    "print(\"log of MTTDLstripe = \", math.log10(MTTDLstripe))\n",
    "\n",
    "MTTDLsystem = MTTDLstripe/(C*1000*1000*1000/(n*Bs))\n",
    "print(\"MTTDLsystem = \", MTTDLsystem)"
   ]
  },
  {
   "cell_type": "code",
   "execution_count": 46,
   "id": "06ee9fb9",
   "metadata": {},
   "outputs": [
    {
     "name": "stdout",
     "output_type": "stream",
     "text": [
      "187.5\n"
     ]
    }
   ],
   "source": [
    "ind_stripes = N/n\n",
    "print(ind_stripes)"
   ]
  },
  {
   "cell_type": "code",
   "execution_count": 43,
   "id": "7ec87ece",
   "metadata": {},
   "outputs": [
    {
     "name": "stdout",
     "output_type": "stream",
     "text": [
      "12.638646936295437\n"
     ]
    }
   ],
   "source": [
    "print(math.log10(MTTDLstripe/ind_stripes))"
   ]
  },
  {
   "cell_type": "code",
   "execution_count": null,
   "id": "b14d6d3b",
   "metadata": {},
   "outputs": [],
   "source": []
  }
 ],
 "metadata": {
  "kernelspec": {
   "display_name": "Python 3 (ipykernel)",
   "language": "python",
   "name": "python3"
  },
  "language_info": {
   "codemirror_mode": {
    "name": "ipython",
    "version": 3
   },
   "file_extension": ".py",
   "mimetype": "text/x-python",
   "name": "python",
   "nbconvert_exporter": "python",
   "pygments_lexer": "ipython3",
   "version": "3.8.2"
  }
 },
 "nbformat": 4,
 "nbformat_minor": 5
}
